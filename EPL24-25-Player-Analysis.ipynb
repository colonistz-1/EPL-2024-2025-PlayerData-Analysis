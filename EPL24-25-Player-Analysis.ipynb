{
 "cells": [
  {
   "cell_type": "code",
   "execution_count": 16,
   "metadata": {},
   "outputs": [],
   "source": [
    "import plotly.express as px\n",
    "import pandas as pd"
   ]
  },
  {
   "cell_type": "code",
   "execution_count": 17,
   "metadata": {},
   "outputs": [],
   "source": [
    "df1 = pd.read_csv(\"data\\epl-players-expectedasistsper90.csv\")\n",
    "df2 = pd.read_csv(\"data\\epl-players-prgPper90.csv\")"
   ]
  },
  {
   "cell_type": "code",
   "execution_count": 18,
   "metadata": {},
   "outputs": [],
   "source": [
    "def set_first_row_as_header(df):\n",
    "    new_header = df.iloc[0]\n",
    "    df = df[1:].copy()\n",
    "    df.columns = new_header\n",
    "    df.reset_index(drop=True, inplace=True)\n",
    "    return df"
   ]
  },
  {
   "cell_type": "code",
   "execution_count": 37,
   "metadata": {},
   "outputs": [],
   "source": [
    "df1 = set_first_row_as_header(df1)\n"
   ]
  },
  {
   "cell_type": "code",
   "execution_count": 36,
   "metadata": {},
   "outputs": [],
   "source": [
    "df2 = set_first_row_as_header(df2)"
   ]
  },
  {
   "cell_type": "code",
   "execution_count": 38,
   "metadata": {},
   "outputs": [
    {
     "data": {
      "text/html": [
       "<div>\n",
       "<style scoped>\n",
       "    .dataframe tbody tr th:only-of-type {\n",
       "        vertical-align: middle;\n",
       "    }\n",
       "\n",
       "    .dataframe tbody tr th {\n",
       "        vertical-align: top;\n",
       "    }\n",
       "\n",
       "    .dataframe thead th {\n",
       "        text-align: right;\n",
       "    }\n",
       "</style>\n",
       "<table border=\"1\" class=\"dataframe\">\n",
       "  <thead>\n",
       "    <tr style=\"text-align: right;\">\n",
       "      <th></th>\n",
       "      <th>Rk</th>\n",
       "      <th>Player</th>\n",
       "      <th>Min</th>\n",
       "      <th>Season</th>\n",
       "      <th>Age</th>\n",
       "      <th>Nation</th>\n",
       "      <th>Team</th>\n",
       "      <th>Comp</th>\n",
       "      <th>MP</th>\n",
       "      <th>Min</th>\n",
       "      <th>...</th>\n",
       "      <th>npxG/Sh</th>\n",
       "      <th>Sh</th>\n",
       "      <th>G/Sh</th>\n",
       "      <th>G/SoT</th>\n",
       "      <th>SoT</th>\n",
       "      <th>SoT%</th>\n",
       "      <th>Dist</th>\n",
       "      <th>FK</th>\n",
       "      <th>Pos</th>\n",
       "      <th>-9999</th>\n",
       "    </tr>\n",
       "  </thead>\n",
       "  <tbody>\n",
       "    <tr>\n",
       "      <th>0</th>\n",
       "      <td>1</td>\n",
       "      <td>Dara O'Shea</td>\n",
       "      <td>512</td>\n",
       "      <td>2024-2025</td>\n",
       "      <td>25</td>\n",
       "      <td>ie IRL</td>\n",
       "      <td>Ipswich Town</td>\n",
       "      <td>eng Premier League</td>\n",
       "      <td>6</td>\n",
       "      <td>512</td>\n",
       "      <td>...</td>\n",
       "      <td>0.05</td>\n",
       "      <td>6</td>\n",
       "      <td>0.00</td>\n",
       "      <td>0.00</td>\n",
       "      <td>1</td>\n",
       "      <td>16.7</td>\n",
       "      <td>9.4</td>\n",
       "      <td>0</td>\n",
       "      <td>DF</td>\n",
       "      <td>1d042188</td>\n",
       "    </tr>\n",
       "    <tr>\n",
       "      <th>1</th>\n",
       "      <td>2</td>\n",
       "      <td>Yerson Mosquera</td>\n",
       "      <td>441</td>\n",
       "      <td>2024-2025</td>\n",
       "      <td>23</td>\n",
       "      <td>co COL</td>\n",
       "      <td>Wolves</td>\n",
       "      <td>eng Premier League</td>\n",
       "      <td>5</td>\n",
       "      <td>441</td>\n",
       "      <td>...</td>\n",
       "      <td>0.17</td>\n",
       "      <td>2</td>\n",
       "      <td>0.00</td>\n",
       "      <td>NaN</td>\n",
       "      <td>0</td>\n",
       "      <td>0.0</td>\n",
       "      <td>12.4</td>\n",
       "      <td>0</td>\n",
       "      <td>DF</td>\n",
       "      <td>1e159d70</td>\n",
       "    </tr>\n",
       "    <tr>\n",
       "      <th>2</th>\n",
       "      <td>3</td>\n",
       "      <td>Jacob Greaves</td>\n",
       "      <td>630</td>\n",
       "      <td>2024-2025</td>\n",
       "      <td>23</td>\n",
       "      <td>eng ENG</td>\n",
       "      <td>Ipswich Town</td>\n",
       "      <td>eng Premier League</td>\n",
       "      <td>7</td>\n",
       "      <td>630</td>\n",
       "      <td>...</td>\n",
       "      <td>0.08</td>\n",
       "      <td>5</td>\n",
       "      <td>0.00</td>\n",
       "      <td>0.00</td>\n",
       "      <td>2</td>\n",
       "      <td>40.0</td>\n",
       "      <td>9.6</td>\n",
       "      <td>0</td>\n",
       "      <td>DF</td>\n",
       "      <td>1f169636</td>\n",
       "    </tr>\n",
       "    <tr>\n",
       "      <th>3</th>\n",
       "      <td>4</td>\n",
       "      <td>Adam Smith</td>\n",
       "      <td>434</td>\n",
       "      <td>2024-2025</td>\n",
       "      <td>33</td>\n",
       "      <td>eng ENG</td>\n",
       "      <td>Bournemouth</td>\n",
       "      <td>eng Premier League</td>\n",
       "      <td>9</td>\n",
       "      <td>434</td>\n",
       "      <td>...</td>\n",
       "      <td>NaN</td>\n",
       "      <td>0</td>\n",
       "      <td>NaN</td>\n",
       "      <td>NaN</td>\n",
       "      <td>0</td>\n",
       "      <td>NaN</td>\n",
       "      <td>NaN</td>\n",
       "      <td>0</td>\n",
       "      <td>DF</td>\n",
       "      <td>20b104bc</td>\n",
       "    </tr>\n",
       "    <tr>\n",
       "      <th>4</th>\n",
       "      <td>5</td>\n",
       "      <td>Caleb Okoli</td>\n",
       "      <td>628</td>\n",
       "      <td>2024-2025</td>\n",
       "      <td>23</td>\n",
       "      <td>it ITA</td>\n",
       "      <td>Leicester City</td>\n",
       "      <td>eng Premier League</td>\n",
       "      <td>7</td>\n",
       "      <td>628</td>\n",
       "      <td>...</td>\n",
       "      <td>0.05</td>\n",
       "      <td>3</td>\n",
       "      <td>0.00</td>\n",
       "      <td>0.00</td>\n",
       "      <td>1</td>\n",
       "      <td>33.3</td>\n",
       "      <td>16.4</td>\n",
       "      <td>0</td>\n",
       "      <td>DF</td>\n",
       "      <td>8ec109e6</td>\n",
       "    </tr>\n",
       "  </tbody>\n",
       "</table>\n",
       "<p>5 rows × 40 columns</p>\n",
       "</div>"
      ],
      "text/plain": [
       "0 Rk           Player  Min     Season Age   Nation            Team  \\\n",
       "0  1      Dara O'Shea  512  2024-2025  25   ie IRL    Ipswich Town   \n",
       "1  2  Yerson Mosquera  441  2024-2025  23   co COL          Wolves   \n",
       "2  3    Jacob Greaves  630  2024-2025  23  eng ENG    Ipswich Town   \n",
       "3  4       Adam Smith  434  2024-2025  33  eng ENG     Bournemouth   \n",
       "4  5      Caleb Okoli  628  2024-2025  23   it ITA  Leicester City   \n",
       "\n",
       "0                Comp MP  Min  ... npxG/Sh Sh  G/Sh G/SoT SoT  SoT%  Dist FK  \\\n",
       "0  eng Premier League  6  512  ...    0.05  6  0.00  0.00   1  16.7   9.4  0   \n",
       "1  eng Premier League  5  441  ...    0.17  2  0.00   NaN   0   0.0  12.4  0   \n",
       "2  eng Premier League  7  630  ...    0.08  5  0.00  0.00   2  40.0   9.6  0   \n",
       "3  eng Premier League  9  434  ...     NaN  0   NaN   NaN   0   NaN   NaN  0   \n",
       "4  eng Premier League  7  628  ...    0.05  3  0.00  0.00   1  33.3  16.4  0   \n",
       "\n",
       "0 Pos     -9999  \n",
       "0  DF  1d042188  \n",
       "1  DF  1e159d70  \n",
       "2  DF  1f169636  \n",
       "3  DF  20b104bc  \n",
       "4  DF  8ec109e6  \n",
       "\n",
       "[5 rows x 40 columns]"
      ]
     },
     "execution_count": 38,
     "metadata": {},
     "output_type": "execute_result"
    }
   ],
   "source": [
    "df1.head()"
   ]
  },
  {
   "cell_type": "code",
   "execution_count": 39,
   "metadata": {},
   "outputs": [
    {
     "data": {
      "text/html": [
       "<div>\n",
       "<style scoped>\n",
       "    .dataframe tbody tr th:only-of-type {\n",
       "        vertical-align: middle;\n",
       "    }\n",
       "\n",
       "    .dataframe tbody tr th {\n",
       "        vertical-align: top;\n",
       "    }\n",
       "\n",
       "    .dataframe thead th {\n",
       "        text-align: right;\n",
       "    }\n",
       "</style>\n",
       "<table border=\"1\" class=\"dataframe\">\n",
       "  <thead>\n",
       "    <tr style=\"text-align: right;\">\n",
       "      <th></th>\n",
       "      <th>Rk</th>\n",
       "      <th>Player</th>\n",
       "      <th>Min</th>\n",
       "      <th>Season</th>\n",
       "      <th>Age</th>\n",
       "      <th>Nation</th>\n",
       "      <th>Team</th>\n",
       "      <th>Comp</th>\n",
       "      <th>MP</th>\n",
       "      <th>Min</th>\n",
       "      <th>...</th>\n",
       "      <th>Att</th>\n",
       "      <th>Cmp%</th>\n",
       "      <th>Cmp</th>\n",
       "      <th>Att</th>\n",
       "      <th>Cmp%</th>\n",
       "      <th>Cmp</th>\n",
       "      <th>Att</th>\n",
       "      <th>Cmp%</th>\n",
       "      <th>Pos</th>\n",
       "      <th>-9999</th>\n",
       "    </tr>\n",
       "  </thead>\n",
       "  <tbody>\n",
       "    <tr>\n",
       "      <th>0</th>\n",
       "      <td>1</td>\n",
       "      <td>Cameron Archer</td>\n",
       "      <td>437</td>\n",
       "      <td>2024-2025</td>\n",
       "      <td>23</td>\n",
       "      <td>eng ENG</td>\n",
       "      <td>Southampton</td>\n",
       "      <td>eng Premier League</td>\n",
       "      <td>9</td>\n",
       "      <td>437</td>\n",
       "      <td>...</td>\n",
       "      <td>41</td>\n",
       "      <td>85.4</td>\n",
       "      <td>15</td>\n",
       "      <td>18</td>\n",
       "      <td>83.3</td>\n",
       "      <td>1</td>\n",
       "      <td>1</td>\n",
       "      <td>100.0</td>\n",
       "      <td>FW</td>\n",
       "      <td>05e8ca6d</td>\n",
       "    </tr>\n",
       "    <tr>\n",
       "      <th>1</th>\n",
       "      <td>2</td>\n",
       "      <td>Erling Haaland</td>\n",
       "      <td>809</td>\n",
       "      <td>2024-2025</td>\n",
       "      <td>24</td>\n",
       "      <td>no NOR</td>\n",
       "      <td>Manchester City</td>\n",
       "      <td>eng Premier League</td>\n",
       "      <td>9</td>\n",
       "      <td>809</td>\n",
       "      <td>...</td>\n",
       "      <td>58</td>\n",
       "      <td>63.8</td>\n",
       "      <td>15</td>\n",
       "      <td>20</td>\n",
       "      <td>75.0</td>\n",
       "      <td>1</td>\n",
       "      <td>2</td>\n",
       "      <td>50.0</td>\n",
       "      <td>FW</td>\n",
       "      <td>1f44ac21</td>\n",
       "    </tr>\n",
       "    <tr>\n",
       "      <th>2</th>\n",
       "      <td>3</td>\n",
       "      <td>Kevin Schade</td>\n",
       "      <td>461</td>\n",
       "      <td>2024-2025</td>\n",
       "      <td>22</td>\n",
       "      <td>de GER</td>\n",
       "      <td>Brentford</td>\n",
       "      <td>eng Premier League</td>\n",
       "      <td>9</td>\n",
       "      <td>461</td>\n",
       "      <td>...</td>\n",
       "      <td>46</td>\n",
       "      <td>63.0</td>\n",
       "      <td>19</td>\n",
       "      <td>35</td>\n",
       "      <td>54.3</td>\n",
       "      <td>1</td>\n",
       "      <td>5</td>\n",
       "      <td>20.0</td>\n",
       "      <td>FWMF</td>\n",
       "      <td>52afb588</td>\n",
       "    </tr>\n",
       "    <tr>\n",
       "      <th>3</th>\n",
       "      <td>4</td>\n",
       "      <td>Ollie Watkins</td>\n",
       "      <td>685</td>\n",
       "      <td>2024-2025</td>\n",
       "      <td>28</td>\n",
       "      <td>eng ENG</td>\n",
       "      <td>Aston Villa</td>\n",
       "      <td>eng Premier League</td>\n",
       "      <td>9</td>\n",
       "      <td>685</td>\n",
       "      <td>...</td>\n",
       "      <td>56</td>\n",
       "      <td>78.6</td>\n",
       "      <td>13</td>\n",
       "      <td>14</td>\n",
       "      <td>92.9</td>\n",
       "      <td>1</td>\n",
       "      <td>2</td>\n",
       "      <td>50.0</td>\n",
       "      <td>FW</td>\n",
       "      <td>aed3a70f</td>\n",
       "    </tr>\n",
       "    <tr>\n",
       "      <th>4</th>\n",
       "      <td>5</td>\n",
       "      <td>Liam Delap</td>\n",
       "      <td>632</td>\n",
       "      <td>2024-2025</td>\n",
       "      <td>21</td>\n",
       "      <td>eng ENG</td>\n",
       "      <td>Ipswich Town</td>\n",
       "      <td>eng Premier League</td>\n",
       "      <td>9</td>\n",
       "      <td>632</td>\n",
       "      <td>...</td>\n",
       "      <td>27</td>\n",
       "      <td>63.0</td>\n",
       "      <td>18</td>\n",
       "      <td>30</td>\n",
       "      <td>60.0</td>\n",
       "      <td>2</td>\n",
       "      <td>5</td>\n",
       "      <td>40.0</td>\n",
       "      <td>FW</td>\n",
       "      <td>dd897ee7</td>\n",
       "    </tr>\n",
       "  </tbody>\n",
       "</table>\n",
       "<p>5 rows × 42 columns</p>\n",
       "</div>"
      ],
      "text/plain": [
       "0 Rk          Player  Min     Season Age   Nation             Team  \\\n",
       "0  1  Cameron Archer  437  2024-2025  23  eng ENG      Southampton   \n",
       "1  2  Erling Haaland  809  2024-2025  24   no NOR  Manchester City   \n",
       "2  3    Kevin Schade  461  2024-2025  22   de GER        Brentford   \n",
       "3  4   Ollie Watkins  685  2024-2025  28  eng ENG      Aston Villa   \n",
       "4  5      Liam Delap  632  2024-2025  21  eng ENG     Ipswich Town   \n",
       "\n",
       "0                Comp MP  Min  ... Att  Cmp% Cmp Att  Cmp% Cmp Att   Cmp%  \\\n",
       "0  eng Premier League  9  437  ...  41  85.4  15  18  83.3   1   1  100.0   \n",
       "1  eng Premier League  9  809  ...  58  63.8  15  20  75.0   1   2   50.0   \n",
       "2  eng Premier League  9  461  ...  46  63.0  19  35  54.3   1   5   20.0   \n",
       "3  eng Premier League  9  685  ...  56  78.6  13  14  92.9   1   2   50.0   \n",
       "4  eng Premier League  9  632  ...  27  63.0  18  30  60.0   2   5   40.0   \n",
       "\n",
       "0   Pos     -9999  \n",
       "0    FW  05e8ca6d  \n",
       "1    FW  1f44ac21  \n",
       "2  FWMF  52afb588  \n",
       "3    FW  aed3a70f  \n",
       "4    FW  dd897ee7  \n",
       "\n",
       "[5 rows x 42 columns]"
      ]
     },
     "execution_count": 39,
     "metadata": {},
     "output_type": "execute_result"
    }
   ],
   "source": [
    "df2.head()"
   ]
  },
  {
   "cell_type": "code",
   "execution_count": 40,
   "metadata": {},
   "outputs": [
    {
     "data": {
      "text/html": [
       "<div>\n",
       "<style scoped>\n",
       "    .dataframe tbody tr th:only-of-type {\n",
       "        vertical-align: middle;\n",
       "    }\n",
       "\n",
       "    .dataframe tbody tr th {\n",
       "        vertical-align: top;\n",
       "    }\n",
       "\n",
       "    .dataframe thead th {\n",
       "        text-align: right;\n",
       "    }\n",
       "</style>\n",
       "<table border=\"1\" class=\"dataframe\">\n",
       "  <thead>\n",
       "    <tr style=\"text-align: right;\">\n",
       "      <th></th>\n",
       "      <th>Player</th>\n",
       "      <th>Pos</th>\n",
       "      <th>PrgP</th>\n",
       "      <th>xA</th>\n",
       "      <th>90s</th>\n",
       "    </tr>\n",
       "  </thead>\n",
       "  <tbody>\n",
       "    <tr>\n",
       "      <th>0</th>\n",
       "      <td>Dara O'Shea</td>\n",
       "      <td>DF</td>\n",
       "      <td>13</td>\n",
       "      <td>0.0</td>\n",
       "      <td>5.7</td>\n",
       "    </tr>\n",
       "    <tr>\n",
       "      <th>1</th>\n",
       "      <td>Yerson Mosquera</td>\n",
       "      <td>DF</td>\n",
       "      <td>7</td>\n",
       "      <td>0.0</td>\n",
       "      <td>4.9</td>\n",
       "    </tr>\n",
       "    <tr>\n",
       "      <th>2</th>\n",
       "      <td>Jacob Greaves</td>\n",
       "      <td>DF</td>\n",
       "      <td>14</td>\n",
       "      <td>0.0</td>\n",
       "      <td>7.0</td>\n",
       "    </tr>\n",
       "    <tr>\n",
       "      <th>3</th>\n",
       "      <td>Adam Smith</td>\n",
       "      <td>DF</td>\n",
       "      <td>7</td>\n",
       "      <td>0.0</td>\n",
       "      <td>4.8</td>\n",
       "    </tr>\n",
       "    <tr>\n",
       "      <th>4</th>\n",
       "      <td>Caleb Okoli</td>\n",
       "      <td>DF</td>\n",
       "      <td>20</td>\n",
       "      <td>0.0</td>\n",
       "      <td>7.0</td>\n",
       "    </tr>\n",
       "  </tbody>\n",
       "</table>\n",
       "</div>"
      ],
      "text/plain": [
       "0           Player Pos PrgP   xA  90s\n",
       "0      Dara O'Shea  DF   13  0.0  5.7\n",
       "1  Yerson Mosquera  DF    7  0.0  4.9\n",
       "2    Jacob Greaves  DF   14  0.0  7.0\n",
       "3       Adam Smith  DF    7  0.0  4.8\n",
       "4      Caleb Okoli  DF   20  0.0  7.0"
      ]
     },
     "execution_count": 40,
     "metadata": {},
     "output_type": "execute_result"
    }
   ],
   "source": [
    "\n",
    "epl_player_passing_data = pd.merge(df1, df2, on=['Player','90s', \"Pos\"], how='inner')\n",
    "epl_player_passing_data = epl_player_passing_data[['Player', 'Pos', 'PrgP', 'xA', '90s']]\n",
    "\n",
    "epl_player_passing_data.head()"
   ]
  },
  {
   "cell_type": "code",
   "execution_count": 41,
   "metadata": {},
   "outputs": [
    {
     "data": {
      "text/plain": [
       "0      5.7\n",
       "1      4.9\n",
       "2      7.0\n",
       "3      4.8\n",
       "4      7.0\n",
       "      ... \n",
       "194    5.0\n",
       "195    8.4\n",
       "196    7.2\n",
       "197    8.9\n",
       "198    7.4\n",
       "Name: 90s, Length: 199, dtype: float64"
      ]
     },
     "execution_count": 41,
     "metadata": {},
     "output_type": "execute_result"
    }
   ],
   "source": [
    "epl_player_passing_data[\"90s\"] = pd.to_numeric(epl_player_passing_data[\"90s\"], errors='coerce')\n",
    "epl_player_passing_data[\"90s\"]"
   ]
  },
  {
   "cell_type": "code",
   "execution_count": 42,
   "metadata": {},
   "outputs": [
    {
     "data": {
      "text/plain": [
       "0      0.0\n",
       "1      0.0\n",
       "2      0.0\n",
       "3      0.0\n",
       "4      0.0\n",
       "      ... \n",
       "194    2.7\n",
       "195    2.9\n",
       "196    3.2\n",
       "197    3.4\n",
       "198    3.6\n",
       "Name: xA, Length: 199, dtype: float64"
      ]
     },
     "execution_count": 42,
     "metadata": {},
     "output_type": "execute_result"
    }
   ],
   "source": [
    "epl_player_passing_data[\"xA\"] = pd.to_numeric(epl_player_passing_data[\"xA\"], errors='coerce')\n",
    "epl_player_passing_data[\"xA\"]"
   ]
  },
  {
   "cell_type": "code",
   "execution_count": 43,
   "metadata": {},
   "outputs": [
    {
     "data": {
      "text/plain": [
       "0      0.000000\n",
       "1      0.000000\n",
       "2      0.000000\n",
       "3      0.000000\n",
       "4      0.000000\n",
       "         ...   \n",
       "194    0.540000\n",
       "195    0.345238\n",
       "196    0.444444\n",
       "197    0.382022\n",
       "198    0.486486\n",
       "Name: xA/90s, Length: 199, dtype: float64"
      ]
     },
     "execution_count": 43,
     "metadata": {},
     "output_type": "execute_result"
    }
   ],
   "source": [
    "epl_player_passing_data[\"xA/90s\"] = epl_player_passing_data[\"xA\"] / epl_player_passing_data[\"90s\"]\n",
    "\n",
    "epl_player_passing_data[\"xA/90s\"]"
   ]
  },
  {
   "cell_type": "code",
   "execution_count": 44,
   "metadata": {},
   "outputs": [
    {
     "data": {
      "text/plain": [
       "0      13\n",
       "1       7\n",
       "2      14\n",
       "3       7\n",
       "4      20\n",
       "       ..\n",
       "194    23\n",
       "195    46\n",
       "196    31\n",
       "197    43\n",
       "198    67\n",
       "Name: PrgP, Length: 199, dtype: int64"
      ]
     },
     "execution_count": 44,
     "metadata": {},
     "output_type": "execute_result"
    }
   ],
   "source": [
    "epl_player_passing_data[\"PrgP\"] = pd.to_numeric(epl_player_passing_data[\"PrgP\"], errors=\"coerce\")\n",
    "epl_player_passing_data[\"PrgP\"]"
   ]
  },
  {
   "cell_type": "code",
   "execution_count": 45,
   "metadata": {},
   "outputs": [
    {
     "data": {
      "text/plain": [
       "0      2.280702\n",
       "1      1.428571\n",
       "2      2.000000\n",
       "3      1.458333\n",
       "4      2.857143\n",
       "         ...   \n",
       "194    4.600000\n",
       "195    5.476190\n",
       "196    4.305556\n",
       "197    4.831461\n",
       "198    9.054054\n",
       "Name: PrgP/90s, Length: 199, dtype: float64"
      ]
     },
     "execution_count": 45,
     "metadata": {},
     "output_type": "execute_result"
    }
   ],
   "source": [
    "epl_player_passing_data[\"PrgP/90s\"] = epl_player_passing_data[\"PrgP\"] / epl_player_passing_data[\"90s\"]\n",
    "\n",
    "epl_player_passing_data[\"PrgP/90s\"]"
   ]
  },
  {
   "cell_type": "code",
   "execution_count": 46,
   "metadata": {},
   "outputs": [
    {
     "data": {
      "application/vnd.plotly.v1+json": {
       "config": {
        "plotlyServerURL": "https://plot.ly"
       },
       "data": [
        {
         "hovertemplate": "color=DF<br>symbol=DF<br>x=%{x}<br>y=%{y}<br>text=%{text}<extra></extra>",
         "legendgroup": "DF, DF",
         "marker": {
          "color": "#636efa",
          "symbol": "circle"
         },
         "mode": "markers+text",
         "name": "DF, DF",
         "orientation": "v",
         "showlegend": true,
         "text": [
          "Dara O'Shea",
          "Yerson Mosquera",
          "Jacob Greaves",
          "Adam Smith",
          "Caleb Okoli",
          "Michael Keane",
          "Matthijs de Ligt",
          "Axel Tuanzebe",
          "Ben White",
          "Craig Dawson",
          "Taylor Harwood-Bellis",
          "Pau Torres",
          "Ibrahima Konaté",
          "Jack Stephens",
          "Illia Zabarnyi",
          "William Saliba",
          "Calvin Bassey",
          "Kristoffer Ajer",
          "Valentino Livramento",
          "Nikola Milenković",
          "Max Kilman",
          "Joachim Andersen",
          "Ezri Konsa",
          "Wesley Fofana",
          "Álex Moreno",
          "Jurriën Timber",
          "Jan Paul van Hecke",
          "Gabriel Magalhães",
          "Kenny Tete",
          "Wout Faes",
          "Dan Burn",
          "Marc Guéhi",
          "Virgil van Dijk",
          "James Justin",
          "Konstantinos Mavropanos",
          "Milos Kerkez",
          "Lewis Dunk",
          "Vitaliy Mykolenko",
          "Sepp van den Berg",
          "Nathan Collins",
          "Lisandro Martínez",
          "Malo Gusto",
          "Toti Gomes",
          "James Tarkowski",
          "Murillo",
          "Maxence Lacroix",
          "Marcos Senesi",
          "Victor Bernth Kristiansen",
          "Kyle Walker-Peters",
          "Nélson Semedo",
          "Ethan Pinnock",
          "Levi Colwill",
          "Rayan Aït-Nouri",
          "Fabian Schär",
          "Aaron Wan-Bissaka",
          "Cristian Romero",
          "Marc Cucurella",
          "Ola Aina",
          "Antonee Robinson",
          "Rúben Dias",
          "Jan Bednarek",
          "Destiny Udogie",
          "Micky van de Ven",
          "Noussair Mazraoui",
          "Manuel Akanji",
          "Joël Veltman",
          "Ashley Young",
          "Andrew Robertson",
          "Yukinari Sugawara",
          "Diogo Dalot",
          "Emerson Palmieri",
          "Pedro Porro",
          "Joško Gvardiol",
          "Lewis Hall",
          "Lucas Digne",
          "Leif Davis",
          "Trent Alexander-Arnold"
         ],
         "type": "scatter",
         "x": [
          0,
          0,
          0,
          0,
          0,
          0,
          0,
          0.017543859649122806,
          0.015384615384615385,
          0.015873015873015876,
          0.013157894736842106,
          0.011111111111111112,
          0.012048192771084336,
          0.02040816326530612,
          0.011111111111111112,
          0.013698630136986302,
          0.011111111111111112,
          0.014084507042253523,
          0.01694915254237288,
          0.0125,
          0.011111111111111112,
          0.017543859649122806,
          0.028169014084507046,
          0.026315789473684213,
          0.04166666666666667,
          0.034482758620689655,
          0.03278688524590164,
          0.023255813953488375,
          0.022727272727272728,
          0.022222222222222223,
          0.022222222222222223,
          0.022222222222222223,
          0.022222222222222223,
          0.022222222222222223,
          0.04838709677419355,
          0.03614457831325301,
          0.038461538461538464,
          0.047619047619047616,
          0.04918032786885246,
          0.03333333333333333,
          0.038461538461538464,
          0.04477611940298507,
          0.04615384615384615,
          0.044444444444444446,
          0.044444444444444446,
          0.06666666666666667,
          0.05882352941176471,
          0.052631578947368425,
          0.057971014492753624,
          0.05970149253731343,
          0.044444444444444446,
          0.05555555555555555,
          0.06024096385542168,
          0.07936507936507936,
          0.0821917808219178,
          0.06666666666666667,
          0.1044776119402985,
          0.0813953488372093,
          0.07777777777777778,
          0.08641975308641975,
          0.07865168539325842,
          0.08433734939759036,
          0.08860759493670885,
          0.09859154929577464,
          0.1038961038961039,
          0.10256410256410257,
          0.14925373134328357,
          0.14864864864864866,
          0.15942028985507248,
          0.12222222222222223,
          0.14473684210526316,
          0.13333333333333333,
          0.1411764705882353,
          0.19402985074626866,
          0.2,
          0.2,
          0.34523809523809523
         ],
         "xaxis": "x",
         "y": [
          2.280701754385965,
          1.4285714285714284,
          2,
          1.4583333333333335,
          2.857142857142857,
          1.375,
          1.5384615384615385,
          2.807017543859649,
          3.5384615384615383,
          2.0634920634920637,
          3.0263157894736845,
          3.6666666666666665,
          3.1325301204819276,
          5.3061224489795915,
          3.7777777777777777,
          3.1506849315068495,
          2.6666666666666665,
          3.5211267605633805,
          3.559322033898305,
          1.25,
          4.444444444444445,
          3.508771929824561,
          4.084507042253521,
          1.973684210526316,
          4.375,
          3.793103448275862,
          9.508196721311476,
          2.674418604651163,
          2.840909090909091,
          3.4444444444444446,
          1.5555555555555556,
          4.111111111111111,
          4,
          2.888888888888889,
          2.258064516129032,
          5.0602409638554215,
          7.17948717948718,
          3.174603174603175,
          2.6229508196721314,
          3.888888888888889,
          5,
          4.776119402985074,
          1.6923076923076923,
          1.6666666666666667,
          2.5555555555555554,
          2,
          5.147058823529412,
          2.763157894736842,
          4.927536231884058,
          2.388059701492537,
          2,
          3.888888888888889,
          3.7349397590361444,
          4.603174603174604,
          4.52054794520548,
          4.111111111111111,
          2.835820895522388,
          4.302325581395349,
          2.4444444444444446,
          7.037037037037037,
          2.5842696629213484,
          6.024096385542168,
          5.3164556962025316,
          5.070422535211268,
          8.7012987012987,
          3.717948717948718,
          6.119402985074626,
          4.72972972972973,
          4.782608695652174,
          4.222222222222222,
          2.8947368421052633,
          6.333333333333333,
          11.176470588235293,
          5.970149253731343,
          1.7333333333333334,
          2.4444444444444446,
          5.476190476190476
         ],
         "yaxis": "y"
        },
        {
         "hovertemplate": "color=FW<br>symbol=FW<br>x=%{x}<br>y=%{y}<br>text=%{text}<extra></extra>",
         "legendgroup": "FW, FW",
         "marker": {
          "color": "#EF553B",
          "symbol": "diamond"
         },
         "mode": "markers+text",
         "name": "FW, FW",
         "orientation": "v",
         "showlegend": true,
         "text": [
          "Cameron Archer",
          "Liam Delap",
          "Jamie Vardy",
          "Chris Wood",
          "Joshua Zirkzee",
          "Diogo Jota",
          "Yoane Wissa",
          "Jean-Philippe Mateta",
          "Nicolas Jackson",
          "Eddie Nketiah",
          "Danny Welbeck",
          "Erling Haaland",
          "Leandro Trossard",
          "Iliman Ndiaye",
          "Dominic Calvert-Lewin",
          "Alejandro Garnacho",
          "Jørgen Strand Larsen",
          "Brennan Johnson",
          "Evanilson",
          "Alexander Isak",
          "Ollie Watkins",
          "Dominic Solanke",
          "Kai Havertz",
          "Anthony Elanga",
          "Jack Harrison",
          "Michail Antonio",
          "Noni Madueke",
          "Callum Hudson-Odoi",
          "Harvey Barnes",
          "Raúl Jiménez",
          "Luis Díaz",
          "Son Heung-min",
          "Marcus Rashford",
          "Jacob Murphy",
          "Antoine Semenyo",
          "Stephy Mavididi",
          "Mohamed Salah",
          "Anthony Gordon",
          "Alex Iwobi",
          "Bryan Mbeumo"
         ],
         "type": "scatter",
         "x": [
          0.02040816326530612,
          0.014285714285714287,
          0.023809523809523808,
          0.025,
          0.06521739130434782,
          0.05454545454545454,
          0.06666666666666667,
          0.04687499999999999,
          0.03896103896103896,
          0.06666666666666667,
          0.03614457831325301,
          0.044444444444444446,
          0.07407407407407407,
          0.05479452054794521,
          0.058823529411764705,
          0.07575757575757576,
          0.0617283950617284,
          0.07792207792207792,
          0.09999999999999999,
          0.0923076923076923,
          0.07894736842105263,
          0.08695652173913043,
          0.07777777777777778,
          0.14545454545454548,
          0.12121212121212123,
          0.12903225806451613,
          0.11594202898550725,
          0.14084507042253522,
          0.2075471698113208,
          0.18965517241379312,
          0.20338983050847456,
          0.20689655172413793,
          0.17142857142857143,
          0.21818181818181817,
          0.1724137931034483,
          0.26666666666666666,
          0.18390804597701152,
          0.2236842105263158,
          0.21176470588235294,
          0.2777777777777778
         ],
         "xaxis": "x",
         "y": [
          0.6122448979591836,
          0.5714285714285714,
          0.8333333333333333,
          1,
          2.3913043478260874,
          1.0909090909090908,
          2,
          1.5625,
          1.6883116883116882,
          1.5555555555555556,
          2.2891566265060237,
          0.4444444444444444,
          4.0740740740740735,
          2.191780821917808,
          1.0588235294117647,
          1.8181818181818183,
          0.7407407407407408,
          3.3766233766233764,
          0.8333333333333334,
          1.3846153846153846,
          0.5263157894736842,
          2.753623188405797,
          3.2222222222222223,
          2,
          1.9696969696969697,
          1.9354838709677418,
          2.318840579710145,
          2.676056338028169,
          4.90566037735849,
          2.0689655172413794,
          2.8813559322033897,
          6.379310344827586,
          2.142857142857143,
          4.909090909090909,
          1.8390804597701151,
          3.8333333333333335,
          3.7931034482758625,
          1.1842105263157896,
          6.352941176470588,
          3.7777777777777777
         ],
         "yaxis": "y"
        },
        {
         "hovertemplate": "color=MF<br>symbol=MF<br>x=%{x}<br>y=%{y}<br>text=%{text}<extra></extra>",
         "legendgroup": "MF, MF",
         "marker": {
          "color": "#00cc96",
          "symbol": "square"
         },
         "mode": "markers+text",
         "name": "MF, MF",
         "orientation": "v",
         "showlegend": true,
         "text": [
          "Guido Rodríguez",
          "João Gomes",
          "Christian Nørgaard",
          "Abdoulaye Doucouré",
          "Daichi Kamada",
          "Kalvin Phillips",
          "Oliver Skipp",
          "Idrissa Gana Gueye",
          "Amadou Onana",
          "Carlos Baleba",
          "Saša Lukić",
          "Ryan Christie",
          "Ryan Yates",
          "Mateus Fernandes",
          "Tomáš Souček",
          "Kobbie Mainoo",
          "Joe Aribo",
          "Adam Wharton",
          "Lucas Paquetá",
          "Sam Morsy",
          "Joelinton",
          "Mario Lemina",
          "Enzo Fernández",
          "Vitaly Janelt",
          "Emile Smith Rowe",
          "Dominik Szoboszlai",
          "Morgan Gibbs-White",
          "Flynn Downes",
          "Wilfred Ndidi",
          "Bruno Guimarães",
          "Declan Rice",
          "Mateo Kovačić",
          "İlkay Gündoğan",
          "Moisés Caicedo",
          "Harry Winks",
          "Casemiro",
          "Christian Eriksen",
          "Ryan Gravenberch",
          "Alexis Mac Allister",
          "Lewis Cook",
          "Andreas Pereira",
          "Youri Tielemans",
          "James Maddison"
         ],
         "type": "scatter",
         "x": [
          0.013157894736842106,
          0.012048192771084336,
          0.014925373134328358,
          0.03174603174603175,
          0.03921568627450981,
          0.03921568627450981,
          0.044444444444444446,
          0.03225806451612903,
          0.03333333333333333,
          0.03125,
          0.03278688524590164,
          0.047619047619047616,
          0.04285714285714286,
          0.06779661016949153,
          0.07936507936507936,
          0.07936507936507936,
          0.1111111111111111,
          0.08695652173913043,
          0.08571428571428572,
          0.07594936708860758,
          0.07228915662650602,
          0.08235294117647059,
          0.1111111111111111,
          0.0875,
          0.1142857142857143,
          0.10958904109589042,
          0.16071428571428573,
          0.1,
          0.10465116279069768,
          0.10112359550561797,
          0.13333333333333333,
          0.12820512820512822,
          0.1923076923076923,
          0.125,
          0.14666666666666667,
          0.21568627450980396,
          0.22916666666666669,
          0.12222222222222223,
          0.17142857142857143,
          0.14606741573033707,
          0.25,
          0.24719101123595508,
          0.48648648648648646
         ],
         "xaxis": "x",
         "y": [
          2.763157894736842,
          3.975903614457831,
          3.2835820895522385,
          3.174603174603175,
          6.07843137254902,
          4.901960784313726,
          2.888888888888889,
          4.354838709677419,
          3,
          5.46875,
          4.59016393442623,
          5.714285714285714,
          2,
          4.23728813559322,
          3.6507936507936507,
          3.8095238095238098,
          4.0740740740740735,
          8.840579710144928,
          6,
          5.3164556962025316,
          4.698795180722891,
          2.7058823529411766,
          5.396825396825397,
          3.125,
          5,
          3.8356164383561646,
          5,
          4,
          3.1395348837209305,
          6.741573033707865,
          6.8,
          5.769230769230769,
          5.961538461538462,
          5,
          5.466666666666667,
          6.07843137254902,
          5.416666666666667,
          6,
          6.142857142857143,
          5.730337078651685,
          4.868421052631579,
          7.752808988764045,
          9.054054054054054
         ],
         "yaxis": "y"
        },
        {
         "hovertemplate": "color=FWMF<br>symbol=FWMF<br>x=%{x}<br>y=%{y}<br>text=%{text}<extra></extra>",
         "legendgroup": "FWMF, FWMF",
         "marker": {
          "color": "#ab63fa",
          "symbol": "x"
         },
         "mode": "markers+text",
         "name": "FWMF, FWMF",
         "orientation": "v",
         "showlegend": true,
         "text": [
          "Kevin Schade",
          "Jordan Ayew",
          "Tyler Dibling",
          "Georginio Rutter",
          "Jeremy Doku",
          "Jacob Ramsey",
          "Yankuba Minteh",
          "Leon Bailey",
          "Kaoru Mitoma",
          "Adama Traoré",
          "Jarrod Bowen",
          "Sávio"
         ],
         "type": "scatter",
         "x": [
          0.019607843137254905,
          0.02127659574468085,
          0.10909090909090909,
          0.18,
          0.2222222222222222,
          0.21052631578947367,
          0.26666666666666666,
          0.27083333333333337,
          0.1829268292682927,
          0.23376623376623376,
          0.26436781609195403,
          0.54
         ],
         "xaxis": "x",
         "y": [
          0.7843137254901962,
          1.9148936170212765,
          3.4545454545454546,
          6.4,
          4.222222222222222,
          4.035087719298246,
          2.6666666666666665,
          3.3333333333333335,
          3.1707317073170733,
          3.3766233766233764,
          3.9080459770114944,
          4.6
         ],
         "yaxis": "y"
        },
        {
         "hovertemplate": "color=MFFW<br>symbol=MFFW<br>x=%{x}<br>y=%{y}<br>text=%{text}<extra></extra>",
         "legendgroup": "MFFW, MFFW",
         "marker": {
          "color": "#FFA15A",
          "symbol": "cross"
         },
         "mode": "markers+text",
         "name": "MFFW, MFFW",
         "orientation": "v",
         "showlegend": true,
         "text": [
          "Jean-Ricner Bellegarde",
          "Omari Hutchinson",
          "Justin Kluivert",
          "John McGinn",
          "Elliot Anderson",
          "Facundo Buonanotte",
          "Mohammed Kudus",
          "Marcus Tavernier",
          "Dejan Kulusevski",
          "Morgan Rogers",
          "Eberechi Eze",
          "Matheus Cunha",
          "Bernardo Silva",
          "Bruno Fernandes",
          "Mikkel Damsgaard",
          "Gabriel Martinelli",
          "Cole Palmer",
          "Bukayo Saka",
          "Dwight McNeil"
         ],
         "type": "scatter",
         "x": [
          0.06666666666666667,
          0.05128205128205129,
          0.11320754716981132,
          0.1276595744680851,
          0.126984126984127,
          0.1475409836065574,
          0.12162162162162161,
          0.12987012987012986,
          0.17333333333333334,
          0.17073170731707318,
          0.15555555555555556,
          0.20253164556962025,
          0.20987654320987656,
          0.2048192771084337,
          0.2571428571428572,
          0.2950819672131148,
          0.24418604651162792,
          0.4444444444444445,
          0.38202247191011235
         ],
         "xaxis": "x",
         "y": [
          1.1111111111111112,
          2.8205128205128207,
          3.207547169811321,
          3.6170212765957444,
          4.126984126984127,
          3.4426229508196724,
          2.7027027027027026,
          5.844155844155844,
          5.866666666666666,
          3.1707317073170733,
          5,
          3.4177215189873418,
          4.567901234567901,
          8.313253012048191,
          6.714285714285714,
          1.9672131147540985,
          6.279069767441861,
          4.305555555555555,
          4.831460674157303
         ],
         "yaxis": "y"
        },
        {
         "hovertemplate": "color=MFDF<br>symbol=MFDF<br>x=%{x}<br>y=%{y}<br>text=%{text}<extra></extra>",
         "legendgroup": "MFDF, MFDF",
         "marker": {
          "color": "#19d3f3",
          "symbol": "circle"
         },
         "mode": "markers+text",
         "name": "MFDF, MFDF",
         "orientation": "v",
         "showlegend": true,
         "text": [
          "Thomas Partey",
          "Jefferson Lerma",
          "Rico Lewis"
         ],
         "type": "scatter",
         "x": [
          0.0449438202247191,
          0.08695652173913045,
          0.05405405405405406
         ],
         "xaxis": "x",
         "y": [
          5.280898876404494,
          5.6521739130434785,
          4.864864864864865
         ],
         "yaxis": "y"
        },
        {
         "hovertemplate": "color=DFMF<br>symbol=DFMF<br>x=%{x}<br>y=%{y}<br>text=%{text}<extra></extra>",
         "legendgroup": "DFMF, DFMF",
         "marker": {
          "color": "#FF6692",
          "symbol": "diamond"
         },
         "mode": "markers+text",
         "name": "DFMF, DFMF",
         "orientation": "v",
         "showlegend": true,
         "text": [
          "Daniel Muñoz",
          "Jack Hinshelwood",
          "Tyrick Mitchell"
         ],
         "type": "scatter",
         "x": [
          0.07407407407407407,
          0.0909090909090909,
          0.10714285714285714
         ],
         "xaxis": "x",
         "y": [
          2.9629629629629632,
          3.3766233766233764,
          2.857142857142857
         ],
         "yaxis": "y"
        },
        {
         "hovertemplate": "color=FWDF<br>symbol=FWDF<br>x=%{x}<br>y=%{y}<br>text=%{text}<extra></extra>",
         "legendgroup": "FWDF, FWDF",
         "marker": {
          "color": "#B6E880",
          "symbol": "square"
         },
         "mode": "markers+text",
         "name": "FWDF, FWDF",
         "orientation": "v",
         "showlegend": true,
         "text": [
          "Dango Ouattara",
          "Keane Lewis-Potter"
         ],
         "type": "scatter",
         "x": [
          0.1956521739130435,
          0.1791044776119403
         ],
         "xaxis": "x",
         "y": [
          1.3043478260869565,
          2.835820895522388
         ],
         "yaxis": "y"
        }
       ],
       "layout": {
        "annotations": [
         {
          "showarrow": false,
          "text": "Premier League 2024/25, GW10, Minimum 400 Minutes Played",
          "x": 0.5,
          "xref": "paper",
          "y": 1.1,
          "yref": "paper"
         }
        ],
        "legend": {
         "title": {
          "text": "color, symbol"
         },
         "tracegroupgap": 0
        },
        "template": {
         "data": {
          "bar": [
           {
            "error_x": {
             "color": "#2a3f5f"
            },
            "error_y": {
             "color": "#2a3f5f"
            },
            "marker": {
             "line": {
              "color": "#E5ECF6",
              "width": 0.5
             },
             "pattern": {
              "fillmode": "overlay",
              "size": 10,
              "solidity": 0.2
             }
            },
            "type": "bar"
           }
          ],
          "barpolar": [
           {
            "marker": {
             "line": {
              "color": "#E5ECF6",
              "width": 0.5
             },
             "pattern": {
              "fillmode": "overlay",
              "size": 10,
              "solidity": 0.2
             }
            },
            "type": "barpolar"
           }
          ],
          "carpet": [
           {
            "aaxis": {
             "endlinecolor": "#2a3f5f",
             "gridcolor": "white",
             "linecolor": "white",
             "minorgridcolor": "white",
             "startlinecolor": "#2a3f5f"
            },
            "baxis": {
             "endlinecolor": "#2a3f5f",
             "gridcolor": "white",
             "linecolor": "white",
             "minorgridcolor": "white",
             "startlinecolor": "#2a3f5f"
            },
            "type": "carpet"
           }
          ],
          "choropleth": [
           {
            "colorbar": {
             "outlinewidth": 0,
             "ticks": ""
            },
            "type": "choropleth"
           }
          ],
          "contour": [
           {
            "colorbar": {
             "outlinewidth": 0,
             "ticks": ""
            },
            "colorscale": [
             [
              0,
              "#0d0887"
             ],
             [
              0.1111111111111111,
              "#46039f"
             ],
             [
              0.2222222222222222,
              "#7201a8"
             ],
             [
              0.3333333333333333,
              "#9c179e"
             ],
             [
              0.4444444444444444,
              "#bd3786"
             ],
             [
              0.5555555555555556,
              "#d8576b"
             ],
             [
              0.6666666666666666,
              "#ed7953"
             ],
             [
              0.7777777777777778,
              "#fb9f3a"
             ],
             [
              0.8888888888888888,
              "#fdca26"
             ],
             [
              1,
              "#f0f921"
             ]
            ],
            "type": "contour"
           }
          ],
          "contourcarpet": [
           {
            "colorbar": {
             "outlinewidth": 0,
             "ticks": ""
            },
            "type": "contourcarpet"
           }
          ],
          "heatmap": [
           {
            "colorbar": {
             "outlinewidth": 0,
             "ticks": ""
            },
            "colorscale": [
             [
              0,
              "#0d0887"
             ],
             [
              0.1111111111111111,
              "#46039f"
             ],
             [
              0.2222222222222222,
              "#7201a8"
             ],
             [
              0.3333333333333333,
              "#9c179e"
             ],
             [
              0.4444444444444444,
              "#bd3786"
             ],
             [
              0.5555555555555556,
              "#d8576b"
             ],
             [
              0.6666666666666666,
              "#ed7953"
             ],
             [
              0.7777777777777778,
              "#fb9f3a"
             ],
             [
              0.8888888888888888,
              "#fdca26"
             ],
             [
              1,
              "#f0f921"
             ]
            ],
            "type": "heatmap"
           }
          ],
          "heatmapgl": [
           {
            "colorbar": {
             "outlinewidth": 0,
             "ticks": ""
            },
            "colorscale": [
             [
              0,
              "#0d0887"
             ],
             [
              0.1111111111111111,
              "#46039f"
             ],
             [
              0.2222222222222222,
              "#7201a8"
             ],
             [
              0.3333333333333333,
              "#9c179e"
             ],
             [
              0.4444444444444444,
              "#bd3786"
             ],
             [
              0.5555555555555556,
              "#d8576b"
             ],
             [
              0.6666666666666666,
              "#ed7953"
             ],
             [
              0.7777777777777778,
              "#fb9f3a"
             ],
             [
              0.8888888888888888,
              "#fdca26"
             ],
             [
              1,
              "#f0f921"
             ]
            ],
            "type": "heatmapgl"
           }
          ],
          "histogram": [
           {
            "marker": {
             "pattern": {
              "fillmode": "overlay",
              "size": 10,
              "solidity": 0.2
             }
            },
            "type": "histogram"
           }
          ],
          "histogram2d": [
           {
            "colorbar": {
             "outlinewidth": 0,
             "ticks": ""
            },
            "colorscale": [
             [
              0,
              "#0d0887"
             ],
             [
              0.1111111111111111,
              "#46039f"
             ],
             [
              0.2222222222222222,
              "#7201a8"
             ],
             [
              0.3333333333333333,
              "#9c179e"
             ],
             [
              0.4444444444444444,
              "#bd3786"
             ],
             [
              0.5555555555555556,
              "#d8576b"
             ],
             [
              0.6666666666666666,
              "#ed7953"
             ],
             [
              0.7777777777777778,
              "#fb9f3a"
             ],
             [
              0.8888888888888888,
              "#fdca26"
             ],
             [
              1,
              "#f0f921"
             ]
            ],
            "type": "histogram2d"
           }
          ],
          "histogram2dcontour": [
           {
            "colorbar": {
             "outlinewidth": 0,
             "ticks": ""
            },
            "colorscale": [
             [
              0,
              "#0d0887"
             ],
             [
              0.1111111111111111,
              "#46039f"
             ],
             [
              0.2222222222222222,
              "#7201a8"
             ],
             [
              0.3333333333333333,
              "#9c179e"
             ],
             [
              0.4444444444444444,
              "#bd3786"
             ],
             [
              0.5555555555555556,
              "#d8576b"
             ],
             [
              0.6666666666666666,
              "#ed7953"
             ],
             [
              0.7777777777777778,
              "#fb9f3a"
             ],
             [
              0.8888888888888888,
              "#fdca26"
             ],
             [
              1,
              "#f0f921"
             ]
            ],
            "type": "histogram2dcontour"
           }
          ],
          "mesh3d": [
           {
            "colorbar": {
             "outlinewidth": 0,
             "ticks": ""
            },
            "type": "mesh3d"
           }
          ],
          "parcoords": [
           {
            "line": {
             "colorbar": {
              "outlinewidth": 0,
              "ticks": ""
             }
            },
            "type": "parcoords"
           }
          ],
          "pie": [
           {
            "automargin": true,
            "type": "pie"
           }
          ],
          "scatter": [
           {
            "fillpattern": {
             "fillmode": "overlay",
             "size": 10,
             "solidity": 0.2
            },
            "type": "scatter"
           }
          ],
          "scatter3d": [
           {
            "line": {
             "colorbar": {
              "outlinewidth": 0,
              "ticks": ""
             }
            },
            "marker": {
             "colorbar": {
              "outlinewidth": 0,
              "ticks": ""
             }
            },
            "type": "scatter3d"
           }
          ],
          "scattercarpet": [
           {
            "marker": {
             "colorbar": {
              "outlinewidth": 0,
              "ticks": ""
             }
            },
            "type": "scattercarpet"
           }
          ],
          "scattergeo": [
           {
            "marker": {
             "colorbar": {
              "outlinewidth": 0,
              "ticks": ""
             }
            },
            "type": "scattergeo"
           }
          ],
          "scattergl": [
           {
            "marker": {
             "colorbar": {
              "outlinewidth": 0,
              "ticks": ""
             }
            },
            "type": "scattergl"
           }
          ],
          "scattermapbox": [
           {
            "marker": {
             "colorbar": {
              "outlinewidth": 0,
              "ticks": ""
             }
            },
            "type": "scattermapbox"
           }
          ],
          "scatterpolar": [
           {
            "marker": {
             "colorbar": {
              "outlinewidth": 0,
              "ticks": ""
             }
            },
            "type": "scatterpolar"
           }
          ],
          "scatterpolargl": [
           {
            "marker": {
             "colorbar": {
              "outlinewidth": 0,
              "ticks": ""
             }
            },
            "type": "scatterpolargl"
           }
          ],
          "scatterternary": [
           {
            "marker": {
             "colorbar": {
              "outlinewidth": 0,
              "ticks": ""
             }
            },
            "type": "scatterternary"
           }
          ],
          "surface": [
           {
            "colorbar": {
             "outlinewidth": 0,
             "ticks": ""
            },
            "colorscale": [
             [
              0,
              "#0d0887"
             ],
             [
              0.1111111111111111,
              "#46039f"
             ],
             [
              0.2222222222222222,
              "#7201a8"
             ],
             [
              0.3333333333333333,
              "#9c179e"
             ],
             [
              0.4444444444444444,
              "#bd3786"
             ],
             [
              0.5555555555555556,
              "#d8576b"
             ],
             [
              0.6666666666666666,
              "#ed7953"
             ],
             [
              0.7777777777777778,
              "#fb9f3a"
             ],
             [
              0.8888888888888888,
              "#fdca26"
             ],
             [
              1,
              "#f0f921"
             ]
            ],
            "type": "surface"
           }
          ],
          "table": [
           {
            "cells": {
             "fill": {
              "color": "#EBF0F8"
             },
             "line": {
              "color": "white"
             }
            },
            "header": {
             "fill": {
              "color": "#C8D4E3"
             },
             "line": {
              "color": "white"
             }
            },
            "type": "table"
           }
          ]
         },
         "layout": {
          "annotationdefaults": {
           "arrowcolor": "#2a3f5f",
           "arrowhead": 0,
           "arrowwidth": 1
          },
          "autotypenumbers": "strict",
          "coloraxis": {
           "colorbar": {
            "outlinewidth": 0,
            "ticks": ""
           }
          },
          "colorscale": {
           "diverging": [
            [
             0,
             "#8e0152"
            ],
            [
             0.1,
             "#c51b7d"
            ],
            [
             0.2,
             "#de77ae"
            ],
            [
             0.3,
             "#f1b6da"
            ],
            [
             0.4,
             "#fde0ef"
            ],
            [
             0.5,
             "#f7f7f7"
            ],
            [
             0.6,
             "#e6f5d0"
            ],
            [
             0.7,
             "#b8e186"
            ],
            [
             0.8,
             "#7fbc41"
            ],
            [
             0.9,
             "#4d9221"
            ],
            [
             1,
             "#276419"
            ]
           ],
           "sequential": [
            [
             0,
             "#0d0887"
            ],
            [
             0.1111111111111111,
             "#46039f"
            ],
            [
             0.2222222222222222,
             "#7201a8"
            ],
            [
             0.3333333333333333,
             "#9c179e"
            ],
            [
             0.4444444444444444,
             "#bd3786"
            ],
            [
             0.5555555555555556,
             "#d8576b"
            ],
            [
             0.6666666666666666,
             "#ed7953"
            ],
            [
             0.7777777777777778,
             "#fb9f3a"
            ],
            [
             0.8888888888888888,
             "#fdca26"
            ],
            [
             1,
             "#f0f921"
            ]
           ],
           "sequentialminus": [
            [
             0,
             "#0d0887"
            ],
            [
             0.1111111111111111,
             "#46039f"
            ],
            [
             0.2222222222222222,
             "#7201a8"
            ],
            [
             0.3333333333333333,
             "#9c179e"
            ],
            [
             0.4444444444444444,
             "#bd3786"
            ],
            [
             0.5555555555555556,
             "#d8576b"
            ],
            [
             0.6666666666666666,
             "#ed7953"
            ],
            [
             0.7777777777777778,
             "#fb9f3a"
            ],
            [
             0.8888888888888888,
             "#fdca26"
            ],
            [
             1,
             "#f0f921"
            ]
           ]
          },
          "colorway": [
           "#636efa",
           "#EF553B",
           "#00cc96",
           "#ab63fa",
           "#FFA15A",
           "#19d3f3",
           "#FF6692",
           "#B6E880",
           "#FF97FF",
           "#FECB52"
          ],
          "font": {
           "color": "#2a3f5f"
          },
          "geo": {
           "bgcolor": "white",
           "lakecolor": "white",
           "landcolor": "#E5ECF6",
           "showlakes": true,
           "showland": true,
           "subunitcolor": "white"
          },
          "hoverlabel": {
           "align": "left"
          },
          "hovermode": "closest",
          "mapbox": {
           "style": "light"
          },
          "paper_bgcolor": "white",
          "plot_bgcolor": "#E5ECF6",
          "polar": {
           "angularaxis": {
            "gridcolor": "white",
            "linecolor": "white",
            "ticks": ""
           },
           "bgcolor": "#E5ECF6",
           "radialaxis": {
            "gridcolor": "white",
            "linecolor": "white",
            "ticks": ""
           }
          },
          "scene": {
           "xaxis": {
            "backgroundcolor": "#E5ECF6",
            "gridcolor": "white",
            "gridwidth": 2,
            "linecolor": "white",
            "showbackground": true,
            "ticks": "",
            "zerolinecolor": "white"
           },
           "yaxis": {
            "backgroundcolor": "#E5ECF6",
            "gridcolor": "white",
            "gridwidth": 2,
            "linecolor": "white",
            "showbackground": true,
            "ticks": "",
            "zerolinecolor": "white"
           },
           "zaxis": {
            "backgroundcolor": "#E5ECF6",
            "gridcolor": "white",
            "gridwidth": 2,
            "linecolor": "white",
            "showbackground": true,
            "ticks": "",
            "zerolinecolor": "white"
           }
          },
          "shapedefaults": {
           "line": {
            "color": "#2a3f5f"
           }
          },
          "ternary": {
           "aaxis": {
            "gridcolor": "white",
            "linecolor": "white",
            "ticks": ""
           },
           "baxis": {
            "gridcolor": "white",
            "linecolor": "white",
            "ticks": ""
           },
           "bgcolor": "#E5ECF6",
           "caxis": {
            "gridcolor": "white",
            "linecolor": "white",
            "ticks": ""
           }
          },
          "title": {
           "x": 0.05
          },
          "xaxis": {
           "automargin": true,
           "gridcolor": "white",
           "linecolor": "white",
           "ticks": "",
           "title": {
            "standoff": 15
           },
           "zerolinecolor": "white",
           "zerolinewidth": 2
          },
          "yaxis": {
           "automargin": true,
           "gridcolor": "white",
           "linecolor": "white",
           "ticks": "",
           "title": {
            "standoff": 15
           },
           "zerolinecolor": "white",
           "zerolinewidth": 2
          }
         }
        },
        "title": {
         "font": {
          "size": 30
         },
         "text": "Progression and Final Pass",
         "x": 0.48
        },
        "xaxis": {
         "anchor": "y",
         "domain": [
          0,
          1
         ],
         "title": {
          "font": {
           "size": 18
          },
          "text": "Expected Assists per90"
         }
        },
        "yaxis": {
         "anchor": "x",
         "domain": [
          0,
          1
         ],
         "title": {
          "font": {
           "size": 18
          },
          "text": "Progressive Passes per90"
         }
        }
       }
      }
     },
     "metadata": {},
     "output_type": "display_data"
    }
   ],
   "source": [
    "pass_fig = px.scatter(x=epl_player_passing_data[\"xA/90s\"], y=epl_player_passing_data[\"PrgP/90s\"], color=epl_player_passing_data[\"Pos\"], symbol=epl_player_passing_data[\"Pos\"], title=\"Progression and Final Pass\", text=epl_player_passing_data['Player'])\n",
    "pass_fig.update_layout(\n",
    "    title_font=dict(size=30),\n",
    "    title_x=0.48,\n",
    "    annotations = [\n",
    "        dict(\n",
    "            text='Premier League 2024/25, GW10, Minimum 400 Minutes Played',\n",
    "            xref='paper', \n",
    "            yref='paper',\n",
    "            showarrow=False,\n",
    "            x=0.5,  \n",
    "            y=1.1,  \n",
    "        )\n",
    "    ],\n",
    "    xaxis_title='Expected Assists per90',\n",
    "    xaxis_title_font=dict(size=18),\n",
    "    yaxis_title='Progressive Passes per90',\n",
    "    yaxis_title_font=dict(size=18),\n",
    ")\n",
    "pass_fig"
   ]
  },
  {
   "cell_type": "code",
   "execution_count": 64,
   "metadata": {},
   "outputs": [],
   "source": [
    "epl_keepers = pd.read_csv('data\\epl-keepers-save-statistics.csv')\n",
    "epl_keepers = set_first_row_as_header(epl_keepers)\n",
    "epl_keepers = df = epl_keepers.iloc[1:].reset_index(drop=True)\n"
   ]
  },
  {
   "cell_type": "code",
   "execution_count": 65,
   "metadata": {},
   "outputs": [],
   "source": [
    "epl_keepers[\"90s\"] = epl_keepers[\"90s\"].astype(float)\n",
    "epl_keepers[\"Save%\"] = epl_keepers[\"Save%\"].astype(float)\n",
    "epl_keepers[\"SoTA\"] = epl_keepers[\"SoTA\"].astype(float)"
   ]
  },
  {
   "cell_type": "code",
   "execution_count": 66,
   "metadata": {},
   "outputs": [],
   "source": [
    "epl_keepers[\"Save%/90s\"] = epl_keepers[\"Save%\"] / epl_keepers[\"90s\"]\n",
    "epl_keepers[\"SoTA/90s\"] = epl_keepers[\"SoTA\"] / epl_keepers[\"90s\"]"
   ]
  },
  {
   "cell_type": "code",
   "execution_count": 67,
   "metadata": {},
   "outputs": [
    {
     "data": {
      "text/html": [
       "<div>\n",
       "<style scoped>\n",
       "    .dataframe tbody tr th:only-of-type {\n",
       "        vertical-align: middle;\n",
       "    }\n",
       "\n",
       "    .dataframe tbody tr th {\n",
       "        vertical-align: top;\n",
       "    }\n",
       "\n",
       "    .dataframe thead th {\n",
       "        text-align: right;\n",
       "    }\n",
       "</style>\n",
       "<table border=\"1\" class=\"dataframe\">\n",
       "  <thead>\n",
       "    <tr style=\"text-align: right;\">\n",
       "      <th></th>\n",
       "      <th>Rk</th>\n",
       "      <th>Player</th>\n",
       "      <th>Min</th>\n",
       "      <th>Season</th>\n",
       "      <th>Age</th>\n",
       "      <th>Nation</th>\n",
       "      <th>Team</th>\n",
       "      <th>Comp</th>\n",
       "      <th>MP</th>\n",
       "      <th>Min</th>\n",
       "      <th>...</th>\n",
       "      <th>Save%</th>\n",
       "      <th>W</th>\n",
       "      <th>D</th>\n",
       "      <th>L</th>\n",
       "      <th>CS</th>\n",
       "      <th>CS%</th>\n",
       "      <th>Pos</th>\n",
       "      <th>-9999</th>\n",
       "      <th>Save%/90s</th>\n",
       "      <th>SoTA/90s</th>\n",
       "    </tr>\n",
       "  </thead>\n",
       "  <tbody>\n",
       "    <tr>\n",
       "      <th>0</th>\n",
       "      <td>1</td>\n",
       "      <td>Alisson</td>\n",
       "      <td>528</td>\n",
       "      <td>2024-2025</td>\n",
       "      <td>31</td>\n",
       "      <td>br BRA</td>\n",
       "      <td>Liverpool</td>\n",
       "      <td>eng Premier League</td>\n",
       "      <td>6</td>\n",
       "      <td>528</td>\n",
       "      <td>...</td>\n",
       "      <td>88.2</td>\n",
       "      <td>5</td>\n",
       "      <td>0</td>\n",
       "      <td>1</td>\n",
       "      <td>3</td>\n",
       "      <td>50.0</td>\n",
       "      <td>GK</td>\n",
       "      <td>7a2e46a8</td>\n",
       "      <td>14.949153</td>\n",
       "      <td>2.881356</td>\n",
       "    </tr>\n",
       "    <tr>\n",
       "      <th>1</th>\n",
       "      <td>2</td>\n",
       "      <td>Caoimhín Kelleher</td>\n",
       "      <td>450</td>\n",
       "      <td>2024-2025</td>\n",
       "      <td>25</td>\n",
       "      <td>ie IRL</td>\n",
       "      <td>Liverpool</td>\n",
       "      <td>eng Premier League</td>\n",
       "      <td>5</td>\n",
       "      <td>450</td>\n",
       "      <td>...</td>\n",
       "      <td>77.8</td>\n",
       "      <td>4</td>\n",
       "      <td>1</td>\n",
       "      <td>0</td>\n",
       "      <td>2</td>\n",
       "      <td>40.0</td>\n",
       "      <td>GK</td>\n",
       "      <td>62d7ef38</td>\n",
       "      <td>15.560000</td>\n",
       "      <td>3.600000</td>\n",
       "    </tr>\n",
       "    <tr>\n",
       "      <th>2</th>\n",
       "      <td>3</td>\n",
       "      <td>Kepa Arrizabalaga</td>\n",
       "      <td>540</td>\n",
       "      <td>2024-2025</td>\n",
       "      <td>29</td>\n",
       "      <td>es ESP</td>\n",
       "      <td>Bournemouth</td>\n",
       "      <td>eng Premier League</td>\n",
       "      <td>6</td>\n",
       "      <td>540</td>\n",
       "      <td>...</td>\n",
       "      <td>68.8</td>\n",
       "      <td>3</td>\n",
       "      <td>0</td>\n",
       "      <td>3</td>\n",
       "      <td>1</td>\n",
       "      <td>16.7</td>\n",
       "      <td>GK</td>\n",
       "      <td>28d596a0</td>\n",
       "      <td>11.466667</td>\n",
       "      <td>5.333333</td>\n",
       "    </tr>\n",
       "    <tr>\n",
       "      <th>3</th>\n",
       "      <td>4</td>\n",
       "      <td>Alphonse Areola</td>\n",
       "      <td>675</td>\n",
       "      <td>2024-2025</td>\n",
       "      <td>31</td>\n",
       "      <td>fr FRA</td>\n",
       "      <td>West Ham</td>\n",
       "      <td>eng Premier League</td>\n",
       "      <td>8</td>\n",
       "      <td>675</td>\n",
       "      <td>...</td>\n",
       "      <td>56.3</td>\n",
       "      <td>2</td>\n",
       "      <td>2</td>\n",
       "      <td>4</td>\n",
       "      <td>1</td>\n",
       "      <td>12.5</td>\n",
       "      <td>GK</td>\n",
       "      <td>2f965a72</td>\n",
       "      <td>7.506667</td>\n",
       "      <td>4.266667</td>\n",
       "    </tr>\n",
       "    <tr>\n",
       "      <th>4</th>\n",
       "      <td>5</td>\n",
       "      <td>Sam Johnstone</td>\n",
       "      <td>450</td>\n",
       "      <td>2024-2025</td>\n",
       "      <td>31</td>\n",
       "      <td>eng ENG</td>\n",
       "      <td>2 Teams</td>\n",
       "      <td>eng Premier League</td>\n",
       "      <td>5</td>\n",
       "      <td>450</td>\n",
       "      <td>...</td>\n",
       "      <td>65.6</td>\n",
       "      <td>0</td>\n",
       "      <td>1</td>\n",
       "      <td>4</td>\n",
       "      <td>0</td>\n",
       "      <td>0.0</td>\n",
       "      <td>GK</td>\n",
       "      <td>9e5708be</td>\n",
       "      <td>13.120000</td>\n",
       "      <td>6.400000</td>\n",
       "    </tr>\n",
       "  </tbody>\n",
       "</table>\n",
       "<p>5 rows × 34 columns</p>\n",
       "</div>"
      ],
      "text/plain": [
       "0 Rk             Player  Min     Season Age   Nation         Team  \\\n",
       "0  1            Alisson  528  2024-2025  31   br BRA    Liverpool   \n",
       "1  2  Caoimhín Kelleher  450  2024-2025  25   ie IRL    Liverpool   \n",
       "2  3  Kepa Arrizabalaga  540  2024-2025  29   es ESP  Bournemouth   \n",
       "3  4    Alphonse Areola  675  2024-2025  31   fr FRA     West Ham   \n",
       "4  5      Sam Johnstone  450  2024-2025  31  eng ENG      2 Teams   \n",
       "\n",
       "0                Comp MP  Min  ...  Save%  W  D  L CS   CS% Pos     -9999  \\\n",
       "0  eng Premier League  6  528  ...   88.2  5  0  1  3  50.0  GK  7a2e46a8   \n",
       "1  eng Premier League  5  450  ...   77.8  4  1  0  2  40.0  GK  62d7ef38   \n",
       "2  eng Premier League  6  540  ...   68.8  3  0  3  1  16.7  GK  28d596a0   \n",
       "3  eng Premier League  8  675  ...   56.3  2  2  4  1  12.5  GK  2f965a72   \n",
       "4  eng Premier League  5  450  ...   65.6  0  1  4  0   0.0  GK  9e5708be   \n",
       "\n",
       "0  Save%/90s  SoTA/90s  \n",
       "0  14.949153  2.881356  \n",
       "1  15.560000  3.600000  \n",
       "2  11.466667  5.333333  \n",
       "3   7.506667  4.266667  \n",
       "4  13.120000  6.400000  \n",
       "\n",
       "[5 rows x 34 columns]"
      ]
     },
     "execution_count": 67,
     "metadata": {},
     "output_type": "execute_result"
    }
   ],
   "source": [
    "epl_keepers.head()"
   ]
  },
  {
   "cell_type": "code",
   "execution_count": 68,
   "metadata": {},
   "outputs": [
    {
     "data": {
      "application/vnd.plotly.v1+json": {
       "config": {
        "plotlyServerURL": "https://plot.ly"
       },
       "data": [
        {
         "hovertemplate": "x=%{x}<br>y=%{y}<br>text=%{text}<extra></extra>",
         "legendgroup": "",
         "marker": {
          "color": "#636efa",
          "symbol": "circle"
         },
         "mode": "markers+text",
         "name": "",
         "orientation": "v",
         "showlegend": false,
         "text": [
          "Alisson",
          "Caoimhín Kelleher",
          "Kepa Arrizabalaga",
          "Alphonse Areola",
          "Sam Johnstone",
          "José Sá",
          "Ederson",
          "Guglielmo Vicario",
          "Matz Sels",
          "André Onana",
          "Emiliano Martínez",
          "Bernd Leno",
          "David Raya",
          "Jordan Pickford",
          "Bart Verbruggen",
          "Nick Pope",
          "Dean Henderson",
          "Robert Sánchez",
          "Aaron Ramsdale",
          "Arijanet Muric",
          "Mads Hermansen",
          "Mark Flekken"
         ],
         "type": "scatter",
         "x": [
          2.8813559322033897,
          3.6,
          5.333333333333333,
          4.266666666666667,
          6.4,
          5.5,
          3.272727272727273,
          3.272727272727273,
          3.6363636363636362,
          3.6363636363636362,
          3.909090909090909,
          4.090909090909091,
          4.181818181818182,
          4.2727272727272725,
          5.222222222222222,
          4.7272727272727275,
          4.818181818181818,
          4.909090909090909,
          6.111111111111111,
          6,
          5.545454545454546,
          6.909090909090909
         ],
         "xaxis": "x",
         "y": [
          14.94915254237288,
          15.559999999999999,
          11.466666666666667,
          7.506666666666666,
          13.12,
          9.6,
          6.0636363636363635,
          5.809090909090909,
          7.045454545454546,
          6.590909090909091,
          5.709090909090909,
          6.463636363636363,
          6.918181818181818,
          5.8,
          8.277777777777779,
          7.163636363636363,
          6.5181818181818185,
          7.236363636363635,
          7.477777777777778,
          7,
          6.109090909090909,
          6.463636363636363
         ],
         "yaxis": "y"
        }
       ],
       "layout": {
        "annotations": [
         {
          "showarrow": false,
          "text": "Premier League 2024/25, GW11, Minimum 400 Minutes Played",
          "x": 0.5,
          "xref": "paper",
          "y": 1.1,
          "yref": "paper"
         }
        ],
        "legend": {
         "tracegroupgap": 0
        },
        "template": {
         "data": {
          "bar": [
           {
            "error_x": {
             "color": "#2a3f5f"
            },
            "error_y": {
             "color": "#2a3f5f"
            },
            "marker": {
             "line": {
              "color": "#E5ECF6",
              "width": 0.5
             },
             "pattern": {
              "fillmode": "overlay",
              "size": 10,
              "solidity": 0.2
             }
            },
            "type": "bar"
           }
          ],
          "barpolar": [
           {
            "marker": {
             "line": {
              "color": "#E5ECF6",
              "width": 0.5
             },
             "pattern": {
              "fillmode": "overlay",
              "size": 10,
              "solidity": 0.2
             }
            },
            "type": "barpolar"
           }
          ],
          "carpet": [
           {
            "aaxis": {
             "endlinecolor": "#2a3f5f",
             "gridcolor": "white",
             "linecolor": "white",
             "minorgridcolor": "white",
             "startlinecolor": "#2a3f5f"
            },
            "baxis": {
             "endlinecolor": "#2a3f5f",
             "gridcolor": "white",
             "linecolor": "white",
             "minorgridcolor": "white",
             "startlinecolor": "#2a3f5f"
            },
            "type": "carpet"
           }
          ],
          "choropleth": [
           {
            "colorbar": {
             "outlinewidth": 0,
             "ticks": ""
            },
            "type": "choropleth"
           }
          ],
          "contour": [
           {
            "colorbar": {
             "outlinewidth": 0,
             "ticks": ""
            },
            "colorscale": [
             [
              0,
              "#0d0887"
             ],
             [
              0.1111111111111111,
              "#46039f"
             ],
             [
              0.2222222222222222,
              "#7201a8"
             ],
             [
              0.3333333333333333,
              "#9c179e"
             ],
             [
              0.4444444444444444,
              "#bd3786"
             ],
             [
              0.5555555555555556,
              "#d8576b"
             ],
             [
              0.6666666666666666,
              "#ed7953"
             ],
             [
              0.7777777777777778,
              "#fb9f3a"
             ],
             [
              0.8888888888888888,
              "#fdca26"
             ],
             [
              1,
              "#f0f921"
             ]
            ],
            "type": "contour"
           }
          ],
          "contourcarpet": [
           {
            "colorbar": {
             "outlinewidth": 0,
             "ticks": ""
            },
            "type": "contourcarpet"
           }
          ],
          "heatmap": [
           {
            "colorbar": {
             "outlinewidth": 0,
             "ticks": ""
            },
            "colorscale": [
             [
              0,
              "#0d0887"
             ],
             [
              0.1111111111111111,
              "#46039f"
             ],
             [
              0.2222222222222222,
              "#7201a8"
             ],
             [
              0.3333333333333333,
              "#9c179e"
             ],
             [
              0.4444444444444444,
              "#bd3786"
             ],
             [
              0.5555555555555556,
              "#d8576b"
             ],
             [
              0.6666666666666666,
              "#ed7953"
             ],
             [
              0.7777777777777778,
              "#fb9f3a"
             ],
             [
              0.8888888888888888,
              "#fdca26"
             ],
             [
              1,
              "#f0f921"
             ]
            ],
            "type": "heatmap"
           }
          ],
          "heatmapgl": [
           {
            "colorbar": {
             "outlinewidth": 0,
             "ticks": ""
            },
            "colorscale": [
             [
              0,
              "#0d0887"
             ],
             [
              0.1111111111111111,
              "#46039f"
             ],
             [
              0.2222222222222222,
              "#7201a8"
             ],
             [
              0.3333333333333333,
              "#9c179e"
             ],
             [
              0.4444444444444444,
              "#bd3786"
             ],
             [
              0.5555555555555556,
              "#d8576b"
             ],
             [
              0.6666666666666666,
              "#ed7953"
             ],
             [
              0.7777777777777778,
              "#fb9f3a"
             ],
             [
              0.8888888888888888,
              "#fdca26"
             ],
             [
              1,
              "#f0f921"
             ]
            ],
            "type": "heatmapgl"
           }
          ],
          "histogram": [
           {
            "marker": {
             "pattern": {
              "fillmode": "overlay",
              "size": 10,
              "solidity": 0.2
             }
            },
            "type": "histogram"
           }
          ],
          "histogram2d": [
           {
            "colorbar": {
             "outlinewidth": 0,
             "ticks": ""
            },
            "colorscale": [
             [
              0,
              "#0d0887"
             ],
             [
              0.1111111111111111,
              "#46039f"
             ],
             [
              0.2222222222222222,
              "#7201a8"
             ],
             [
              0.3333333333333333,
              "#9c179e"
             ],
             [
              0.4444444444444444,
              "#bd3786"
             ],
             [
              0.5555555555555556,
              "#d8576b"
             ],
             [
              0.6666666666666666,
              "#ed7953"
             ],
             [
              0.7777777777777778,
              "#fb9f3a"
             ],
             [
              0.8888888888888888,
              "#fdca26"
             ],
             [
              1,
              "#f0f921"
             ]
            ],
            "type": "histogram2d"
           }
          ],
          "histogram2dcontour": [
           {
            "colorbar": {
             "outlinewidth": 0,
             "ticks": ""
            },
            "colorscale": [
             [
              0,
              "#0d0887"
             ],
             [
              0.1111111111111111,
              "#46039f"
             ],
             [
              0.2222222222222222,
              "#7201a8"
             ],
             [
              0.3333333333333333,
              "#9c179e"
             ],
             [
              0.4444444444444444,
              "#bd3786"
             ],
             [
              0.5555555555555556,
              "#d8576b"
             ],
             [
              0.6666666666666666,
              "#ed7953"
             ],
             [
              0.7777777777777778,
              "#fb9f3a"
             ],
             [
              0.8888888888888888,
              "#fdca26"
             ],
             [
              1,
              "#f0f921"
             ]
            ],
            "type": "histogram2dcontour"
           }
          ],
          "mesh3d": [
           {
            "colorbar": {
             "outlinewidth": 0,
             "ticks": ""
            },
            "type": "mesh3d"
           }
          ],
          "parcoords": [
           {
            "line": {
             "colorbar": {
              "outlinewidth": 0,
              "ticks": ""
             }
            },
            "type": "parcoords"
           }
          ],
          "pie": [
           {
            "automargin": true,
            "type": "pie"
           }
          ],
          "scatter": [
           {
            "fillpattern": {
             "fillmode": "overlay",
             "size": 10,
             "solidity": 0.2
            },
            "type": "scatter"
           }
          ],
          "scatter3d": [
           {
            "line": {
             "colorbar": {
              "outlinewidth": 0,
              "ticks": ""
             }
            },
            "marker": {
             "colorbar": {
              "outlinewidth": 0,
              "ticks": ""
             }
            },
            "type": "scatter3d"
           }
          ],
          "scattercarpet": [
           {
            "marker": {
             "colorbar": {
              "outlinewidth": 0,
              "ticks": ""
             }
            },
            "type": "scattercarpet"
           }
          ],
          "scattergeo": [
           {
            "marker": {
             "colorbar": {
              "outlinewidth": 0,
              "ticks": ""
             }
            },
            "type": "scattergeo"
           }
          ],
          "scattergl": [
           {
            "marker": {
             "colorbar": {
              "outlinewidth": 0,
              "ticks": ""
             }
            },
            "type": "scattergl"
           }
          ],
          "scattermapbox": [
           {
            "marker": {
             "colorbar": {
              "outlinewidth": 0,
              "ticks": ""
             }
            },
            "type": "scattermapbox"
           }
          ],
          "scatterpolar": [
           {
            "marker": {
             "colorbar": {
              "outlinewidth": 0,
              "ticks": ""
             }
            },
            "type": "scatterpolar"
           }
          ],
          "scatterpolargl": [
           {
            "marker": {
             "colorbar": {
              "outlinewidth": 0,
              "ticks": ""
             }
            },
            "type": "scatterpolargl"
           }
          ],
          "scatterternary": [
           {
            "marker": {
             "colorbar": {
              "outlinewidth": 0,
              "ticks": ""
             }
            },
            "type": "scatterternary"
           }
          ],
          "surface": [
           {
            "colorbar": {
             "outlinewidth": 0,
             "ticks": ""
            },
            "colorscale": [
             [
              0,
              "#0d0887"
             ],
             [
              0.1111111111111111,
              "#46039f"
             ],
             [
              0.2222222222222222,
              "#7201a8"
             ],
             [
              0.3333333333333333,
              "#9c179e"
             ],
             [
              0.4444444444444444,
              "#bd3786"
             ],
             [
              0.5555555555555556,
              "#d8576b"
             ],
             [
              0.6666666666666666,
              "#ed7953"
             ],
             [
              0.7777777777777778,
              "#fb9f3a"
             ],
             [
              0.8888888888888888,
              "#fdca26"
             ],
             [
              1,
              "#f0f921"
             ]
            ],
            "type": "surface"
           }
          ],
          "table": [
           {
            "cells": {
             "fill": {
              "color": "#EBF0F8"
             },
             "line": {
              "color": "white"
             }
            },
            "header": {
             "fill": {
              "color": "#C8D4E3"
             },
             "line": {
              "color": "white"
             }
            },
            "type": "table"
           }
          ]
         },
         "layout": {
          "annotationdefaults": {
           "arrowcolor": "#2a3f5f",
           "arrowhead": 0,
           "arrowwidth": 1
          },
          "autotypenumbers": "strict",
          "coloraxis": {
           "colorbar": {
            "outlinewidth": 0,
            "ticks": ""
           }
          },
          "colorscale": {
           "diverging": [
            [
             0,
             "#8e0152"
            ],
            [
             0.1,
             "#c51b7d"
            ],
            [
             0.2,
             "#de77ae"
            ],
            [
             0.3,
             "#f1b6da"
            ],
            [
             0.4,
             "#fde0ef"
            ],
            [
             0.5,
             "#f7f7f7"
            ],
            [
             0.6,
             "#e6f5d0"
            ],
            [
             0.7,
             "#b8e186"
            ],
            [
             0.8,
             "#7fbc41"
            ],
            [
             0.9,
             "#4d9221"
            ],
            [
             1,
             "#276419"
            ]
           ],
           "sequential": [
            [
             0,
             "#0d0887"
            ],
            [
             0.1111111111111111,
             "#46039f"
            ],
            [
             0.2222222222222222,
             "#7201a8"
            ],
            [
             0.3333333333333333,
             "#9c179e"
            ],
            [
             0.4444444444444444,
             "#bd3786"
            ],
            [
             0.5555555555555556,
             "#d8576b"
            ],
            [
             0.6666666666666666,
             "#ed7953"
            ],
            [
             0.7777777777777778,
             "#fb9f3a"
            ],
            [
             0.8888888888888888,
             "#fdca26"
            ],
            [
             1,
             "#f0f921"
            ]
           ],
           "sequentialminus": [
            [
             0,
             "#0d0887"
            ],
            [
             0.1111111111111111,
             "#46039f"
            ],
            [
             0.2222222222222222,
             "#7201a8"
            ],
            [
             0.3333333333333333,
             "#9c179e"
            ],
            [
             0.4444444444444444,
             "#bd3786"
            ],
            [
             0.5555555555555556,
             "#d8576b"
            ],
            [
             0.6666666666666666,
             "#ed7953"
            ],
            [
             0.7777777777777778,
             "#fb9f3a"
            ],
            [
             0.8888888888888888,
             "#fdca26"
            ],
            [
             1,
             "#f0f921"
            ]
           ]
          },
          "colorway": [
           "#636efa",
           "#EF553B",
           "#00cc96",
           "#ab63fa",
           "#FFA15A",
           "#19d3f3",
           "#FF6692",
           "#B6E880",
           "#FF97FF",
           "#FECB52"
          ],
          "font": {
           "color": "#2a3f5f"
          },
          "geo": {
           "bgcolor": "white",
           "lakecolor": "white",
           "landcolor": "#E5ECF6",
           "showlakes": true,
           "showland": true,
           "subunitcolor": "white"
          },
          "hoverlabel": {
           "align": "left"
          },
          "hovermode": "closest",
          "mapbox": {
           "style": "light"
          },
          "paper_bgcolor": "white",
          "plot_bgcolor": "#E5ECF6",
          "polar": {
           "angularaxis": {
            "gridcolor": "white",
            "linecolor": "white",
            "ticks": ""
           },
           "bgcolor": "#E5ECF6",
           "radialaxis": {
            "gridcolor": "white",
            "linecolor": "white",
            "ticks": ""
           }
          },
          "scene": {
           "xaxis": {
            "backgroundcolor": "#E5ECF6",
            "gridcolor": "white",
            "gridwidth": 2,
            "linecolor": "white",
            "showbackground": true,
            "ticks": "",
            "zerolinecolor": "white"
           },
           "yaxis": {
            "backgroundcolor": "#E5ECF6",
            "gridcolor": "white",
            "gridwidth": 2,
            "linecolor": "white",
            "showbackground": true,
            "ticks": "",
            "zerolinecolor": "white"
           },
           "zaxis": {
            "backgroundcolor": "#E5ECF6",
            "gridcolor": "white",
            "gridwidth": 2,
            "linecolor": "white",
            "showbackground": true,
            "ticks": "",
            "zerolinecolor": "white"
           }
          },
          "shapedefaults": {
           "line": {
            "color": "#2a3f5f"
           }
          },
          "ternary": {
           "aaxis": {
            "gridcolor": "white",
            "linecolor": "white",
            "ticks": ""
           },
           "baxis": {
            "gridcolor": "white",
            "linecolor": "white",
            "ticks": ""
           },
           "bgcolor": "#E5ECF6",
           "caxis": {
            "gridcolor": "white",
            "linecolor": "white",
            "ticks": ""
           }
          },
          "title": {
           "x": 0.05
          },
          "xaxis": {
           "automargin": true,
           "gridcolor": "white",
           "linecolor": "white",
           "ticks": "",
           "title": {
            "standoff": 15
           },
           "zerolinecolor": "white",
           "zerolinewidth": 2
          },
          "yaxis": {
           "automargin": true,
           "gridcolor": "white",
           "linecolor": "white",
           "ticks": "",
           "title": {
            "standoff": 15
           },
           "zerolinecolor": "white",
           "zerolinewidth": 2
          }
         }
        },
        "title": {
         "font": {
          "size": 30
         },
         "text": "Shots Against and Saves",
         "x": 0.48
        },
        "xaxis": {
         "anchor": "y",
         "domain": [
          0,
          1
         ],
         "title": {
          "font": {
           "size": 18
          },
          "text": "Shots On Target Against"
         }
        },
        "yaxis": {
         "anchor": "x",
         "domain": [
          0,
          1
         ],
         "title": {
          "font": {
           "size": 18
          },
          "text": "Save%"
         }
        }
       }
      }
     },
     "metadata": {},
     "output_type": "display_data"
    }
   ],
   "source": [
    "gk_fig = px.scatter(x=epl_keepers[\"SoTA/90s\"], y=epl_keepers[\"Save%/90s\"] , title=\"Shots Against and Saves\", text=epl_keepers['Player'])\n",
    "gk_fig.update_layout(\n",
    "    title_font=dict(size=30),\n",
    "    title_x=0.48,\n",
    "    annotations = [\n",
    "        dict(\n",
    "            text='Premier League 2024/25, GW11, Minimum 400 Minutes Played',\n",
    "            xref='paper', \n",
    "            yref='paper',\n",
    "            showarrow=False,\n",
    "            x=0.5,  \n",
    "            y=1.1,  \n",
    "        )\n",
    "    ],\n",
    "    xaxis_title='Shots On Target Against',\n",
    "    xaxis_title_font=dict(size=18),\n",
    "    yaxis_title='Save%',\n",
    "    yaxis_title_font=dict(size=18),\n",
    ")\n",
    "\n",
    "gk_fig"
   ]
  }
 ],
 "metadata": {
  "kernelspec": {
   "display_name": "Python 3",
   "language": "python",
   "name": "python3"
  },
  "language_info": {
   "codemirror_mode": {
    "name": "ipython",
    "version": 3
   },
   "file_extension": ".py",
   "mimetype": "text/x-python",
   "name": "python",
   "nbconvert_exporter": "python",
   "pygments_lexer": "ipython3",
   "version": "3.10.8"
  }
 },
 "nbformat": 4,
 "nbformat_minor": 2
}
